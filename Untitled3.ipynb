{
 "cells": [
  {
   "cell_type": "code",
   "execution_count": 1,
   "metadata": {},
   "outputs": [
    {
     "name": "stdout",
     "output_type": "stream",
     "text": [
      "Python version\n",
      "3.7.1 (default, Dec 10 2018, 22:54:23) [MSC v.1915 64 bit (AMD64)]\n"
     ]
    }
   ],
   "source": [
    "import sys\n",
    "print(\"Python version\")\n",
    "print (sys.version)\n"
   ]
  },
  {
   "cell_type": "code",
   "execution_count": 4,
   "metadata": {},
   "outputs": [
    {
     "name": "stdout",
     "output_type": "stream",
     "text": [
      "current = 2019-11-05 22:08:13.105631\n"
     ]
    }
   ],
   "source": [
    "from datetime import datetime\n",
    "    # datetime object containing current date and time.\n",
    "current = datetime.now()\n",
    "print(\"current =\",current)\n"
   ]
  },
  {
   "cell_type": "code",
   "execution_count": 5,
   "metadata": {},
   "outputs": [
    {
     "name": "stdout",
     "output_type": "stream",
     "text": [
      "Enter the radius of circle: 3\n",
      "28.274309999999996\n"
     ]
    }
   ],
   "source": [
    "PI=3.14159\n",
    "R=float(input(\"Enter the radius of circle: \"))\n",
    "A=PI*R*R\n",
    "print(A)"
   ]
  },
  {
   "cell_type": "code",
   "execution_count": 6,
   "metadata": {},
   "outputs": [
    {
     "name": "stdout",
     "output_type": "stream",
     "text": [
      "Enter your First Name: Sami \n",
      "Enter your Last Name: Abbasi\n",
      "Abbasi Sami \n"
     ]
    }
   ],
   "source": [
    "FName=(input(\"Enter your First Name: \"))\n",
    "LName=(input(\"Enter your Last Name: \"))\n",
    "print(LName,FName)"
   ]
  },
  {
   "cell_type": "code",
   "execution_count": 7,
   "metadata": {},
   "outputs": [
    {
     "name": "stdout",
     "output_type": "stream",
     "text": [
      "Enter your first number: 1\n",
      "Enter your second number: 3\n",
      "4\n"
     ]
    }
   ],
   "source": [
    "a=int(input(\"Enter your first number: \"))\n",
    "b=int(input(\"Enter your second number: \"))\n",
    "c = a+b\n",
    "print(c)\n"
   ]
  },
  {
   "cell_type": "code",
   "execution_count": null,
   "metadata": {},
   "outputs": [],
   "source": []
  }
 ],
 "metadata": {
  "kernelspec": {
   "display_name": "Python 3",
   "language": "python",
   "name": "python3"
  },
  "language_info": {
   "codemirror_mode": {
    "name": "ipython",
    "version": 3
   },
   "file_extension": ".py",
   "mimetype": "text/x-python",
   "name": "python",
   "nbconvert_exporter": "python",
   "pygments_lexer": "ipython3",
   "version": "3.7.1"
  }
 },
 "nbformat": 4,
 "nbformat_minor": 2
}
