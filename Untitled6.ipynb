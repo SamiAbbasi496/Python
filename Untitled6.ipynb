{
 "cells": [
  {
   "cell_type": "code",
   "execution_count": 5,
   "metadata": {},
   "outputs": [
    {
     "name": "stdout",
     "output_type": "stream",
     "text": [
      "enter marks out of 100: 85\n",
      "enter marks out of 100: 57\n",
      "enter marks out of 100: 86\n",
      "enter marks out of 100: 92\n",
      "enter marks out of 100: 75\n",
      "totalmarks = 75\n",
      "percentage = 15.0\n",
      "fail\n"
     ]
    }
   ],
   "source": [
    "marks=[]\n",
    "totalmarks=0; \n",
    "for i in range (5):\n",
    "    x=int(input(\"enter marks out of 100: \")) \n",
    "totalmarks=totalmarks+x \n",
    "print(\"totalmarks =\",totalmarks) \n",
    "percentage=(totalmarks*100)/500\n",
    "print(\"percentage =\",percentage) \n",
    "if percentage>=90: \n",
    "    print(\"grade A+\") \n",
    "elif percentage>=80: \n",
    "    print(\"grade A\") \n",
    "elif percentage>=70: \n",
    "    print(\"grade B\") \n",
    "elif percentage>=60: \n",
    "    print(\"grade C\")\n",
    "else: \n",
    "    print(\"fail\")\n",
    "\n"
   ]
  },
  {
   "cell_type": "code",
   "execution_count": 6,
   "metadata": {},
   "outputs": [
    {
     "name": "stdout",
     "output_type": "stream",
     "text": [
      "enter number52\n",
      "even no\n"
     ]
    }
   ],
   "source": [
    "x=int(input(\"enter number\")) \n",
    "if x%2==0: \n",
    "    print(\"even no\") \n",
    "else: \n",
    "    print(\"odd no\")\n"
   ]
  },
  {
   "cell_type": "code",
   "execution_count": 7,
   "metadata": {},
   "outputs": [
    {
     "name": "stdout",
     "output_type": "stream",
     "text": [
      "7\n"
     ]
    }
   ],
   "source": [
    "list=[25,26,39,54,59,68,71]\n",
    "print(len(list))\n"
   ]
  },
  {
   "cell_type": "code",
   "execution_count": 8,
   "metadata": {},
   "outputs": [
    {
     "name": "stdout",
     "output_type": "stream",
     "text": [
      "sum of list= 187\n"
     ]
    }
   ],
   "source": [
    "list=[29,21,38,4,95] \n",
    "x=len(list) \n",
    "sum=0 \n",
    "for i in range (x): \n",
    "    sum=sum+list[i] \n",
    "print(\"sum of list=\",sum)\n"
   ]
  },
  {
   "cell_type": "code",
   "execution_count": 9,
   "metadata": {},
   "outputs": [
    {
     "name": "stdout",
     "output_type": "stream",
     "text": [
      "65\n"
     ]
    }
   ],
   "source": [
    "list=[26,29,53,48,65]\n",
    "print(max(list))\n"
   ]
  },
  {
   "cell_type": "code",
   "execution_count": 10,
   "metadata": {},
   "outputs": [
    {
     "name": "stdout",
     "output_type": "stream",
     "text": [
      "1\n",
      "1\n",
      "2\n",
      "3\n"
     ]
    }
   ],
   "source": [
    "list=[1,1,2,3,5,8,13,21,34,55,89] \n",
    "x=len(list) \n",
    "for i in range(x): \n",
    "    if list[i]<5: \n",
    "        print(list[i])\n"
   ]
  },
  {
   "cell_type": "code",
   "execution_count": null,
   "metadata": {},
   "outputs": [],
   "source": []
  }
 ],
 "metadata": {
  "kernelspec": {
   "display_name": "Python 3",
   "language": "python",
   "name": "python3"
  },
  "language_info": {
   "codemirror_mode": {
    "name": "ipython",
    "version": 3
   },
   "file_extension": ".py",
   "mimetype": "text/x-python",
   "name": "python",
   "nbconvert_exporter": "python",
   "pygments_lexer": "ipython3",
   "version": "3.7.1"
  }
 },
 "nbformat": 4,
 "nbformat_minor": 2
}
